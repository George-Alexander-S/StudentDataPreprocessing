{
 "cells": [
  {
   "cell_type": "code",
   "execution_count": 190,
   "metadata": {},
   "outputs": [],
   "source": [
    "import pandas as pd\n",
    "import numpy as np\n"
   ]
  },
  {
   "cell_type": "code",
   "execution_count": 191,
   "metadata": {},
   "outputs": [],
   "source": [
    "df = pd.read_csv('stud.csv')"
   ]
  },
  {
   "cell_type": "code",
   "execution_count": 192,
   "metadata": {},
   "outputs": [
    {
     "name": "stdout",
     "output_type": "stream",
     "text": [
      "<class 'pandas.core.frame.DataFrame'>\n",
      "RangeIndex: 50 entries, 0 to 49\n",
      "Data columns (total 5 columns):\n",
      " #   Column      Non-Null Count  Dtype  \n",
      "---  ------      --------------  -----  \n",
      " 0   StudentID   50 non-null     int64  \n",
      " 1   Age         50 non-null     object \n",
      " 2   email       50 non-null     object \n",
      " 3   hrsStudy    50 non-null     object \n",
      " 4   FinalGrade  49 non-null     float64\n",
      "dtypes: float64(1), int64(1), object(3)\n",
      "memory usage: 2.1+ KB\n"
     ]
    }
   ],
   "source": [
    "df.info()"
   ]
  },
  {
   "cell_type": "code",
   "execution_count": 193,
   "metadata": {},
   "outputs": [],
   "source": [
    "df = df.replace(r'^\\s*$', np.nan, regex=True)"
   ]
  },
  {
   "cell_type": "code",
   "execution_count": 194,
   "metadata": {},
   "outputs": [
    {
     "name": "stdout",
     "output_type": "stream",
     "text": [
      "Missing Values:\n",
      "StudentID     0\n",
      "Age           1\n",
      "email         0\n",
      "hrsStudy      1\n",
      "FinalGrade    1\n",
      "dtype: int64\n"
     ]
    }
   ],
   "source": [
    "missing_values = df.isna().sum()\n",
    "print(\"Missing Values:\")\n",
    "print(missing_values)"
   ]
  },
  {
   "cell_type": "code",
   "execution_count": 195,
   "metadata": {},
   "outputs": [
    {
     "name": "stdout",
     "output_type": "stream",
     "text": [
      "    StudentID  Age              email hrsStudy  FinalGrade\n",
      "0       47412   20  s47412@oslomet.no        5        46.0\n",
      "1       15077   22  s15077@oslomet.no        0        65.0\n",
      "2       15467   27  s15467@oslomet.no        1        26.0\n",
      "3       17907   21  s17907@oslomet.no        6        68.0\n",
      "4       13352  333  s13352@oslomet.no        4        34.0\n",
      "5       88403   29  s88403@oslomet.no       11        62.0\n",
      "6       56387   32  s56387@oslomet.no        9        29.0\n",
      "7       95648   23  s95648@oslomet.no        3        38.0\n",
      "8       63176   20  s63176@oslomet.no        0        98.0\n",
      "9       15406   31  s15406@oslomet.no        2        68.0\n",
      "10      41908   24  s41908@oslomet.no        0        62.0\n",
      "11      35600   30  s35600@oslomet.no       11        70.0\n",
      "12      16171   25  s16171@oslomet.no       10        81.0\n",
      "13      55586   24  s55586@oslomet.no        7        31.0\n",
      "14      71505   23  s71505@oslomet.no        1        49.0\n",
      "15      31235   33  s31235@oslomet.no        1        72.0\n",
      "16      80811   21  s80811@oslomet.no        6        51.0\n",
      "17      33041   21  s33041@oslomet.no        2        97.0\n",
      "18      99823   23  s99823@oslomet.no       10        56.0\n",
      "19      41092   33  s41092@oslomet.no       10        42.0\n",
      "20      15976   32  s15976@oslomet.no        9        78.0\n",
      "21      91520   33  s91520@oslomet.no        9        60.0\n",
      "22      11758   33  s11758@oslomet.no        6        54.0\n",
      "23      67086   22  s67086@oslomet.no       10        51.0\n",
      "24      84127   20  s84127@oslomet.no        5        92.0\n",
      "25      59109   32  s59109@oslomet.no        7        97.0\n",
      "26      10736    2  s10736@oslomet.no       10         NaN\n",
      "27      71581   25  s71581@oslomet.no        9        26.0\n",
      "28      29254   22  s29254@oslomet.no       10        88.0\n",
      "29      20161   22  s20161@oslomet.no       11        90.0\n",
      "30      21523   31  s21523@oslomet.no      NaN        51.0\n",
      "31      66815   21  s66815@oslomet.no        8        35.0\n",
      "32      26914   31  s26914@oslomet.no        9        93.0\n",
      "33      58153  220  s58153@oslomet.no       10        35.0\n",
      "34      58387   20  s58387@oslomet.no        9       673.0\n",
      "35      44561   28  s44561@oslomet.no       10        78.0\n",
      "36      84163   25  s84163@oslomet.no        7        71.0\n",
      "37      26584   27  s26584@oslomet.no       10        31.0\n",
      "38      74289   31  s74289@oslomet.no        6        45.0\n",
      "39      30158   21  s30158@oslomet.no        3        37.0\n",
      "40      25452   24  s25452@oslomet.no       10        41.0\n",
      "41      92390  NaN  s92390@oslomet.no        2        35.0\n",
      "42      83390   22  s83390@oslomet.no        7        88.0\n",
      "43      32946   31  s32946@oslomet.no       10        24.0\n",
      "44      44023   31  s44023@oslomet.no        6        83.0\n",
      "45      62039   23  s62039@oslomet.no        4        46.0\n",
      "46      42989   27  s42989@oslomet.no        0        80.0\n",
      "47      85370   29  s85370@oslomet.no        2        77.0\n",
      "48      63135   26  s63135@oslomet.no        9        39.0\n",
      "49      28895   19  s28895@oslomet.no       10        68.0\n"
     ]
    }
   ],
   "source": [
    "print(df)"
   ]
  },
  {
   "cell_type": "code",
   "execution_count": 196,
   "metadata": {},
   "outputs": [],
   "source": [
    "df['Age'] = pd.to_numeric(df['Age'], errors='coerce', downcast='integer')\n",
    "df['hrsStudy'] = pd.to_numeric(df['hrsStudy'], errors='coerce', downcast='integer')\n",
    "df['Age'] = df['Age'].astype('Int32')\n",
    "df['hrsStudy'] = df['hrsStudy'].astype('Int32')"
   ]
  },
  {
   "cell_type": "code",
   "execution_count": 197,
   "metadata": {},
   "outputs": [
    {
     "data": {
      "text/plain": [
       "<Axes: >"
      ]
     },
     "execution_count": 197,
     "metadata": {},
     "output_type": "execute_result"
    },
    {
     "data": {
      "image/png": "[encoded data removed]",
      "text/plain": [
       "<Figure size 640x480 with 1 Axes>"
      ]
     },
     "metadata": {},
     "output_type": "display_data"
    }
   ],
   "source": [
    "df[\"FinalGrade\"].plot.bar()\n"
   ]
  },
  {
   "cell_type": "code",
   "execution_count": 198,
   "metadata": {},
   "outputs": [],
   "source": [
    "z_scores = (df['FinalGrade'] - df['FinalGrade'].mean()) / df['FinalGrade'].std()\n",
    "abs_z_scores = np.abs(z_scores)\n",
    "threshold = 3\n",
    "filtered_entries = (abs_z_scores < threshold)\n",
    "df_clean = df[filtered_entries]"
   ]
  },
  {
   "cell_type": "code",
   "execution_count": 199,
   "metadata": {},
   "outputs": [],
   "source": [
    "df_clean.to_csv('cleaned_data.csv', index=False)\n"
   ]
  },
  {
   "cell_type": "code",
   "execution_count": 200,
   "metadata": {},
   "outputs": [
    {
     "data": {
      "text/plain": [
       "<Axes: >"
      ]
     },
     "execution_count": 200,
     "metadata": {},
     "output_type": "execute_result"
    },
    {
     "data": {
      "image/png": "[encoded data removed]",
      "text/plain": [
       "<Figure size 640x480 with 1 Axes>"
      ]
     },
     "metadata": {},
     "output_type": "display_data"
    }
   ],
   "source": [
    "df_clean[\"FinalGrade\"].plot.bar()"
   ]
  },
  {
   "cell_type": "code",
   "execution_count": null,
   "metadata": {},
   "outputs": [],
   "source": []
  },
  {
   "cell_type": "code",
   "execution_count": 201,
   "metadata": {},
   "outputs": [
    {
     "name": "stdout",
     "output_type": "stream",
     "text": [
      "\n",
      "DataFrame after removing outliers:\n",
      "    StudentID   Age              email  hrsStudy  FinalGrade\n",
      "0       47412    20  s47412@oslomet.no         5        46.0\n",
      "1       15077    22  s15077@oslomet.no         0        65.0\n",
      "2       15467    27  s15467@oslomet.no         1        26.0\n",
      "3       17907    21  s17907@oslomet.no         6        68.0\n",
      "4       13352   333  s13352@oslomet.no         4        34.0\n",
      "5       88403    29  s88403@oslomet.no        11        62.0\n",
      "6       56387    32  s56387@oslomet.no         9        29.0\n",
      "7       95648    23  s95648@oslomet.no         3        38.0\n",
      "8       63176    20  s63176@oslomet.no         0        98.0\n",
      "9       15406    31  s15406@oslomet.no         2        68.0\n",
      "10      41908    24  s41908@oslomet.no         0        62.0\n",
      "11      35600    30  s35600@oslomet.no        11        70.0\n",
      "12      16171    25  s16171@oslomet.no        10        81.0\n",
      "13      55586    24  s55586@oslomet.no         7        31.0\n",
      "14      71505    23  s71505@oslomet.no         1        49.0\n",
      "15      31235    33  s31235@oslomet.no         1        72.0\n",
      "16      80811    21  s80811@oslomet.no         6        51.0\n",
      "17      33041    21  s33041@oslomet.no         2        97.0\n",
      "18      99823    23  s99823@oslomet.no        10        56.0\n",
      "19      41092    33  s41092@oslomet.no        10        42.0\n",
      "20      15976    32  s15976@oslomet.no         9        78.0\n",
      "21      91520    33  s91520@oslomet.no         9        60.0\n",
      "22      11758    33  s11758@oslomet.no         6        54.0\n",
      "23      67086    22  s67086@oslomet.no        10        51.0\n",
      "24      84127    20  s84127@oslomet.no         5        92.0\n",
      "25      59109    32  s59109@oslomet.no         7        97.0\n",
      "27      71581    25  s71581@oslomet.no         9        26.0\n",
      "28      29254    22  s29254@oslomet.no        10        88.0\n",
      "29      20161    22  s20161@oslomet.no        11        90.0\n",
      "30      21523    31  s21523@oslomet.no      <NA>        51.0\n",
      "31      66815    21  s66815@oslomet.no         8        35.0\n",
      "32      26914    31  s26914@oslomet.no         9        93.0\n",
      "33      58153   220  s58153@oslomet.no        10        35.0\n",
      "35      44561    28  s44561@oslomet.no        10        78.0\n",
      "36      84163    25  s84163@oslomet.no         7        71.0\n",
      "37      26584    27  s26584@oslomet.no        10        31.0\n",
      "38      74289    31  s74289@oslomet.no         6        45.0\n",
      "39      30158    21  s30158@oslomet.no         3        37.0\n",
      "40      25452    24  s25452@oslomet.no        10        41.0\n",
      "41      92390  <NA>  s92390@oslomet.no         2        35.0\n",
      "42      83390    22  s83390@oslomet.no         7        88.0\n",
      "43      32946    31  s32946@oslomet.no        10        24.0\n",
      "44      44023    31  s44023@oslomet.no         6        83.0\n",
      "45      62039    23  s62039@oslomet.no         4        46.0\n",
      "46      42989    27  s42989@oslomet.no         0        80.0\n",
      "47      85370    29  s85370@oslomet.no         2        77.0\n",
      "48      63135    26  s63135@oslomet.no         9        39.0\n",
      "49      28895    19  s28895@oslomet.no        10        68.0\n"
     ]
    }
   ],
   "source": [
    "print(\"\\nDataFrame after removing outliers:\")\n",
    "print(df_clean)"
   ]
  },
  {
   "cell_type": "code",
   "execution_count": 202,
   "metadata": {},
   "outputs": [
    {
     "name": "stdout",
     "output_type": "stream",
     "text": [
      "\n",
      "Data Types:\n",
      "StudentID       int64\n",
      "Age             Int32\n",
      "email          object\n",
      "hrsStudy        Int32\n",
      "FinalGrade    float64\n",
      "dtype: object\n"
     ]
    }
   ],
   "source": [
    "print(\"\\nData Types:\")\n",
    "print(df_clean.dtypes)\n"
   ]
  },
  {
   "cell_type": "code",
   "execution_count": 203,
   "metadata": {},
   "outputs": [
    {
     "name": "stdout",
     "output_type": "stream",
     "text": [
      "<class 'pandas.core.frame.DataFrame'>\n",
      "Index: 48 entries, 0 to 49\n",
      "Data columns (total 5 columns):\n",
      " #   Column      Non-Null Count  Dtype  \n",
      "---  ------      --------------  -----  \n",
      " 0   StudentID   48 non-null     int64  \n",
      " 1   Age         47 non-null     Int32  \n",
      " 2   email       48 non-null     object \n",
      " 3   hrsStudy    47 non-null     Int32  \n",
      " 4   FinalGrade  48 non-null     float64\n",
      "dtypes: Int32(2), float64(1), int64(1), object(1)\n",
      "memory usage: 2.0+ KB\n"
     ]
    }
   ],
   "source": [
    "df_clean.info()"
   ]
  },
  {
   "cell_type": "code",
   "execution_count": 204,
   "metadata": {},
   "outputs": [
    {
     "name": "stderr",
     "output_type": "stream",
     "text": [
      "/tmp/ipykernel_71263/999108732.py:15: SettingWithCopyWarning: \n",
      "A value is trying to be set on a copy of a slice from a DataFrame.\n",
      "Try using .loc[row_indexer,col_indexer] = value instead\n",
      "\n",
      "See the caveats in the documentation: https://pandas.pydata.org/pandas-docs/stable/user_guide/indexing.html#returning-a-view-versus-a-copy\n",
      "  df_clean['LetterGrade'] = df_clean['FinalGrade'].apply(grade_to_letter)\n"
     ]
    }
   ],
   "source": [
    "def grade_to_letter(grade):\n",
    "    if grade > 90:\n",
    "        return 'A'\n",
    "    elif grade > 80:\n",
    "        return 'B'\n",
    "    elif grade > 70:\n",
    "        return 'C'\n",
    "    elif grade > 60:\n",
    "        return 'D'\n",
    "    elif grade > 50:\n",
    "        return 'E'\n",
    "    else:\n",
    "        return 'F'\n",
    "\n",
    "df_clean['LetterGrade'] = df_clean['FinalGrade'].apply(grade_to_letter)\n"
   ]
  },
  {
   "cell_type": "code",
   "execution_count": 205,
   "metadata": {},
   "outputs": [
    {
     "name": "stdout",
     "output_type": "stream",
     "text": [
      "    FinalGrade LetterGrade\n",
      "0         46.0           F\n",
      "1         65.0           D\n",
      "2         26.0           F\n",
      "3         68.0           D\n",
      "4         34.0           F\n",
      "5         62.0           D\n",
      "6         29.0           F\n",
      "7         38.0           F\n",
      "8         98.0           A\n",
      "9         68.0           D\n",
      "10        62.0           D\n",
      "11        70.0           D\n",
      "12        81.0           B\n",
      "13        31.0           F\n",
      "14        49.0           F\n",
      "15        72.0           C\n",
      "16        51.0           E\n",
      "17        97.0           A\n",
      "18        56.0           E\n",
      "19        42.0           F\n",
      "20        78.0           C\n",
      "21        60.0           E\n",
      "22        54.0           E\n",
      "23        51.0           E\n",
      "24        92.0           A\n",
      "25        97.0           A\n",
      "27        26.0           F\n",
      "28        88.0           B\n",
      "29        90.0           B\n",
      "30        51.0           E\n",
      "31        35.0           F\n",
      "32        93.0           A\n",
      "33        35.0           F\n",
      "35        78.0           C\n",
      "36        71.0           C\n",
      "37        31.0           F\n",
      "38        45.0           F\n",
      "39        37.0           F\n",
      "40        41.0           F\n",
      "41        35.0           F\n",
      "42        88.0           B\n",
      "43        24.0           F\n",
      "44        83.0           B\n",
      "45        46.0           F\n",
      "46        80.0           C\n",
      "47        77.0           C\n",
      "48        39.0           F\n",
      "49        68.0           D\n"
     ]
    }
   ],
   "source": [
    "print(df_clean[['FinalGrade', 'LetterGrade']])\n"
   ]
  },
  {
   "cell_type": "code",
   "execution_count": 206,
   "metadata": {},
   "outputs": [
    {
     "data": {
      "text/plain": [
       "<Axes: xlabel='LetterGrade'>"
      ]
     },
     "execution_count": 206,
     "metadata": {},
     "output_type": "execute_result"
    },
    {
     "data": {
      "image/png": "[encoded data removed]",
      "text/plain": [
       "<Figure size 640x480 with 1 Axes>"
      ]
     },
     "metadata": {},
     "output_type": "display_data"
    }
   ],
   "source": [
    "grade_counts = df_clean['LetterGrade'].value_counts().sort_index()\n",
    "grade_counts.plot(kind='bar', color='skyblue')\n"
   ]
  }
 ],
 "metadata": {
  "kernelspec": {
   "display_name": "dave3625",
   "language": "python",
   "name": "python3"
  },
  "language_info": {
   "codemirror_mode": {
    "name": "ipython",
    "version": 3
   },
   "file_extension": ".py",
   "mimetype": "text/x-python",
   "name": "python",
   "nbconvert_exporter": "python",
   "pygments_lexer": "ipython3",
   "version": "3.8.17"
  },
  "orig_nbformat": 4
 },
 "nbformat": 4,
 "nbformat_minor": 2
}
